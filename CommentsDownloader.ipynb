{
 "cells": [
  {
   "cell_type": "code",
   "execution_count": 4,
   "metadata": {},
   "outputs": [],
   "source": [
    "import requests"
   ]
  },
  {
   "cell_type": "code",
   "execution_count": 12,
   "metadata": {},
   "outputs": [],
   "source": [
    "def extension(month, year) :\n",
    "    if year <= 2017 and month < 12 :\n",
    "        return \".tz2\"\n",
    "    elif year == 2017 or (year <= 2018 and month <= 10) :\n",
    "        return \".xz\"\n",
    "    return \".zst\""
   ]
  },
  {
   "cell_type": "code",
   "execution_count": 17,
   "metadata": {},
   "outputs": [
    {
     "name": "stdout",
     "output_type": "stream",
     "text": [
      "https://files.pushshift.io/reddit/comments/RC_2018-11.zst\n"
     ]
    }
   ],
   "source": [
    "year = 2018\n",
    "month = 11\n",
    "website = \"https://files.pushshift.io/reddit/comments/RC_\"\n",
    "url = website + str(year) + \"-\" + str(\"0\" if month<10 else \"\") + str(month) + extension(month, year)\n",
    "r = requests.get(url, stream = True)\n",
    "print(url)"
   ]
  },
  {
   "cell_type": "code",
   "execution_count": null,
   "metadata": {},
   "outputs": [],
   "source": [
    "output_file = \"RC_\"+str(year) + \"-\" + str(\"0\" if month<10 else \"\") + str(month) + extension(month, year)"
   ]
  },
  {
   "cell_type": "code",
   "execution_count": 31,
   "metadata": {},
   "outputs": [],
   "source": [
    "with open(output_file, 'wb') as f:  \n",
    "    for chunk in r.iter_content(chunk_size=1024): \n",
    "         if chunk: \n",
    "             f.write(chunk) "
   ]
  },
  {
   "cell_type": "code",
   "execution_count": null,
   "metadata": {},
   "outputs": [],
   "source": []
  }
 ],
 "metadata": {
  "kernelspec": {
   "display_name": "Python 3",
   "language": "python",
   "name": "python3"
  },
  "language_info": {
   "codemirror_mode": {
    "name": "ipython",
    "version": 3
   },
   "file_extension": ".py",
   "mimetype": "text/x-python",
   "name": "python",
   "nbconvert_exporter": "python",
   "pygments_lexer": "ipython3",
   "version": "3.7.1"
  }
 },
 "nbformat": 4,
 "nbformat_minor": 2
}
