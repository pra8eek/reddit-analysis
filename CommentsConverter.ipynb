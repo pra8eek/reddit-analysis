{
 "cells": [
  {
   "cell_type": "code",
   "execution_count": 3,
   "metadata": {},
   "outputs": [],
   "source": [
    "import bz2"
   ]
  },
  {
   "cell_type": "code",
   "execution_count": 4,
   "metadata": {},
   "outputs": [],
   "source": [
    "file = bz2.open(\"RC_2015-01.bz2\")"
   ]
  },
  {
   "cell_type": "code",
   "execution_count": 5,
   "metadata": {},
   "outputs": [
    {
     "name": "stdout",
     "output_type": "stream",
     "text": [
      "b'{\"score_hidden\":false,\"name\":\"t1_cnas8zv\",\"link_id\":\"t3_2qyr1a\",\"body\":\"Most of us have some family members like this. *Most* of my family is like this. \",\"downs\":0,\"created_utc\":\"1420070400\",\"score\":14,\"author\":\"YoungModern\",\"distinguished\":null,\"id\":\"cnas8zv\",\"archived\":false,\"parent_id\":\"t3_2qyr1a\",\"subreddit\":\"exmormon\",\"author_flair_css_class\":null,\"author_flair_text\":null,\"gilded\":0,\"retrieved_on\":1425124282,\"ups\":14,\"controversiality\":0,\"subreddit_id\":\"t5_2r0gj\",\"edited\":false}\\n' \n",
      "\n",
      "b'{\"distinguished\":null,\"id\":\"cnas8zw\",\"archived\":false,\"author\":\"RedCoatsForever\",\"score\":3,\"created_utc\":\"1420070400\",\"downs\":0,\"body\":\"But Mill\\'s career was way better. Bentham is like, the Joseph Smith to Mill\\'s Brigham Young.\",\"link_id\":\"t3_2qv6c6\",\"name\":\"t1_cnas8zw\",\"score_hidden\":false,\"controversiality\":0,\"subreddit_id\":\"t5_2s4gt\",\"edited\":false,\"retrieved_on\":1425124282,\"ups\":3,\"author_flair_css_class\":\"on\",\"gilded\":0,\"author_flair_text\":\"Ontario\",\"subreddit\":\"CanadaPolitics\",\"parent_id\":\"t1_cnas2b6\"}\\n' \n",
      "\n",
      "b'{\"score_hidden\":false,\"link_id\":\"t3_2qxefp\",\"name\":\"t1_cnas8zx\",\"created_utc\":\"1420070400\",\"downs\":0,\"body\":\"Mine uses a strait razor, and as much as i love the clippers i love the razor so much more. Then he follows it up with a warm towel. \\\\nI think i might go get a hair cut this week.\",\"distinguished\":null,\"id\":\"cnas8zx\",\"archived\":false,\"author\":\"vhisic\",\"score\":1,\"subreddit\":\"AdviceAnimals\",\"parent_id\":\"t3_2qxefp\",\"retrieved_on\":1425124282,\"ups\":1,\"author_flair_css_class\":null,\"author_flair_text\":null,\"gilded\":0,\"controversiality\":0,\"subreddit_id\":\"t5_2s7tt\",\"edited\":false}\\n' \n",
      "\n",
      "b'{\"parent_id\":\"t3_2qys4x\",\"subreddit\":\"AdviceAnimals\",\"gilded\":0,\"author_flair_text\":null,\"author_flair_css_class\":null,\"retrieved_on\":1425124282,\"ups\":1,\"subreddit_id\":\"t5_2s7tt\",\"edited\":false,\"controversiality\":0,\"score_hidden\":false,\"name\":\"t1_cnas8zy\",\"link_id\":\"t3_2qys4x\",\"body\":\"[deleted]\",\"created_utc\":\"1420070400\",\"downs\":0,\"score\":1,\"author\":\"[deleted]\",\"archived\":false,\"distinguished\":null,\"id\":\"cnas8zy\"}\\n' \n",
      "\n",
      "b'{\"body\":\"Very fast, thank you!\",\"created_utc\":\"1420070400\",\"downs\":0,\"author\":\"Mastersimpson\",\"score\":2,\"id\":\"cnas8zz\",\"distinguished\":null,\"archived\":false,\"score_hidden\":false,\"name\":\"t1_cnas8zz\",\"link_id\":\"t3_2qm5bi\",\"author_flair_css_class\":null,\"gilded\":0,\"author_flair_text\":null,\"retrieved_on\":1425124282,\"ups\":2,\"controversiality\":0,\"edited\":false,\"subreddit_id\":\"t5_2y51u\",\"parent_id\":\"t3_2qm5bi\",\"subreddit\":\"freedonuts\"}\\n' \n",
      "\n"
     ]
    }
   ],
   "source": [
    "i = 5\n",
    "wordarray = []\n",
    "for line in file :\n",
    "    if i > 0 :\n",
    "        word = str(line)\n",
    "        print(word,\"\\n\")\n",
    "        word = word[3:-4]\n",
    "        words = word.split(',')\n",
    "        di = {}\n",
    "#         print(words)\n",
    "        for x in words :\n",
    "#             print(x,\"\\n\")\n",
    "            try :\n",
    "                a,b = x.split(':')\n",
    "                a, b = (a.strip())[1:-1], (b.strip())[1:-1]\n",
    "                di[a] = b\n",
    "            except :\n",
    "                di[a] = di[a] + ',' + x\n",
    "        wordarray.append(di)\n",
    "        i -= 1\n",
    "    else :\n",
    "        break"
   ]
  },
  {
   "cell_type": "code",
   "execution_count": 6,
   "metadata": {},
   "outputs": [
    {
     "data": {
      "text/plain": [
       "[{'score_hidden': 'als',\n",
       "  'name': 't1_cnas8zv',\n",
       "  'link_id': 't3_2qyr1a',\n",
       "  'body': 'Most of us have some family members like this. *Most* of my family is like this. ',\n",
       "  'downs': '',\n",
       "  'created_utc': '1420070400',\n",
       "  'score': '',\n",
       "  'author': 'YoungModern',\n",
       "  'distinguished': 'ul',\n",
       "  'id': 'cnas8zv',\n",
       "  'archived': 'als',\n",
       "  'parent_id': 't3_2qyr1a',\n",
       "  'subreddit': 'exmormon',\n",
       "  'author_flair_css_class': 'ul',\n",
       "  'author_flair_text': 'ul',\n",
       "  'gilded': '',\n",
       "  'retrieved_on': '42512428',\n",
       "  'ups': '',\n",
       "  'controversiality': '',\n",
       "  'subreddit_id': 't5_2r0gj',\n",
       "  'edited': 'als'},\n",
       " {'distinguished': 'ul',\n",
       "  'id': 'cnas8zw',\n",
       "  'archived': 'als',\n",
       "  'author': 'RedCoatsForever',\n",
       "  'score': '',\n",
       "  'created_utc': '1420070400',\n",
       "  'downs': '',\n",
       "  'body': 'But Mill\\\\\\'s career was way better. Bentham is lik, the Joseph Smith to Mill\\\\\\'s Brigham Young.\"',\n",
       "  'link_id': 't3_2qv6c6',\n",
       "  'name': 't1_cnas8zw',\n",
       "  'score_hidden': 'als',\n",
       "  'controversiality': '',\n",
       "  'subreddit_id': 't5_2s4gt',\n",
       "  'edited': 'als',\n",
       "  'retrieved_on': '42512428',\n",
       "  'ups': '',\n",
       "  'author_flair_css_class': 'on',\n",
       "  'gilded': '',\n",
       "  'author_flair_text': 'Ontario',\n",
       "  'subreddit': 'CanadaPolitics',\n",
       "  'parent_id': 't1_cnas2b6'},\n",
       " {'score_hidden': 'als',\n",
       "  'link_id': 't3_2qxefp',\n",
       "  'name': 't1_cnas8zx',\n",
       "  'created_utc': '1420070400',\n",
       "  'downs': '',\n",
       "  'body': 'Mine uses a strait razo, and as much as i love the clippers i love the razor so much more. Then he follows it up with a warm towel. \\\\\\\\nI think i might go get a hair cut this week.\"',\n",
       "  'distinguished': 'ul',\n",
       "  'id': 'cnas8zx',\n",
       "  'archived': 'als',\n",
       "  'author': 'vhisic',\n",
       "  'score': '',\n",
       "  'subreddit': 'AdviceAnimals',\n",
       "  'parent_id': 't3_2qxefp',\n",
       "  'retrieved_on': '42512428',\n",
       "  'ups': '',\n",
       "  'author_flair_css_class': 'ul',\n",
       "  'author_flair_text': 'ul',\n",
       "  'gilded': '',\n",
       "  'controversiality': '',\n",
       "  'subreddit_id': 't5_2s7tt',\n",
       "  'edited': 'als'},\n",
       " {'parent_id': 't3_2qys4x',\n",
       "  'subreddit': 'AdviceAnimals',\n",
       "  'gilded': '',\n",
       "  'author_flair_text': 'ul',\n",
       "  'author_flair_css_class': 'ul',\n",
       "  'retrieved_on': '42512428',\n",
       "  'ups': '',\n",
       "  'subreddit_id': 't5_2s7tt',\n",
       "  'edited': 'als',\n",
       "  'controversiality': '',\n",
       "  'score_hidden': 'als',\n",
       "  'name': 't1_cnas8zy',\n",
       "  'link_id': 't3_2qys4x',\n",
       "  'body': '[deleted]',\n",
       "  'created_utc': '1420070400',\n",
       "  'downs': '',\n",
       "  'score': '',\n",
       "  'author': '[deleted]',\n",
       "  'archived': 'als',\n",
       "  'distinguished': 'ul',\n",
       "  'id': 'cnas8zy'},\n",
       " {'body': 'Very fas, thank you!\"',\n",
       "  'created_utc': '1420070400',\n",
       "  'downs': '',\n",
       "  'author': 'Mastersimpson',\n",
       "  'score': '',\n",
       "  'id': 'cnas8zz',\n",
       "  'distinguished': 'ul',\n",
       "  'archived': 'als',\n",
       "  'score_hidden': 'als',\n",
       "  'name': 't1_cnas8zz',\n",
       "  'link_id': 't3_2qm5bi',\n",
       "  'author_flair_css_class': 'ul',\n",
       "  'gilded': '',\n",
       "  'author_flair_text': 'ul',\n",
       "  'retrieved_on': '42512428',\n",
       "  'ups': '',\n",
       "  'controversiality': '',\n",
       "  'edited': 'als',\n",
       "  'subreddit_id': 't5_2y51u',\n",
       "  'parent_id': 't3_2qm5bi',\n",
       "  'subreddit': 'freedonuts'}]"
      ]
     },
     "execution_count": 6,
     "metadata": {},
     "output_type": "execute_result"
    }
   ],
   "source": [
    "wordarray"
   ]
  },
  {
   "cell_type": "code",
   "execution_count": 7,
   "metadata": {},
   "outputs": [
    {
     "name": "stdout",
     "output_type": "stream",
     "text": [
      "exmormon\n",
      "CanadaPolitics\n",
      "AdviceAnimals\n",
      "AdviceAnimals\n",
      "freedonuts\n"
     ]
    }
   ],
   "source": [
    "for x in wordarray :\n",
    "    print(x['subreddit'])"
   ]
  },
  {
   "cell_type": "code",
   "execution_count": null,
   "metadata": {},
   "outputs": [],
   "source": []
  }
 ],
 "metadata": {
  "kernelspec": {
   "display_name": "Python 3",
   "language": "python",
   "name": "python3"
  },
  "language_info": {
   "codemirror_mode": {
    "name": "ipython",
    "version": 3
   },
   "file_extension": ".py",
   "mimetype": "text/x-python",
   "name": "python",
   "nbconvert_exporter": "python",
   "pygments_lexer": "ipython3",
   "version": "3.7.1"
  }
 },
 "nbformat": 4,
 "nbformat_minor": 2
}
