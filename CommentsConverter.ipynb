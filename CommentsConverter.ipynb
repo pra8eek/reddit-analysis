{
 "cells": [
  {
   "cell_type": "code",
   "execution_count": 44,
   "metadata": {},
   "outputs": [],
   "source": [
    "import bz2"
   ]
  },
  {
   "cell_type": "code",
   "execution_count": 45,
   "metadata": {},
   "outputs": [],
   "source": [
    "file = bz2.open(\"RC_2015-01.bz2\")"
   ]
  },
  {
   "cell_type": "code",
   "execution_count": 55,
   "metadata": {},
   "outputs": [
    {
     "name": "stdout",
     "output_type": "stream",
     "text": [
      "b'{\"controversiality\":0,\"edited\":false,\"subreddit_id\":\"t5_32vyu\",\"ups\":1,\"retrieved_on\":1425124282,\"author_flair_css_class\":null,\"author_flair_text\":null,\"gilded\":0,\"subreddit\":\"GCXRep\",\"parent_id\":\"t1_cnajnze\",\"id\":\"cnas90b\",\"distinguished\":null,\"archived\":false,\"score\":1,\"author\":\"[deleted]\",\"downs\":0,\"created_utc\":\"1420070401\",\"body\":\"[deleted]\",\"link_id\":\"t3_2qxljk\",\"name\":\"t1_cnas90b\",\"score_hidden\":false}\\n' \n",
      "\n",
      "b'{\"subreddit\":\"Games\",\"parent_id\":\"t1_cnas5ud\",\"retrieved_on\":1425124282,\"ups\":1,\"author_flair_css_class\":null,\"gilded\":0,\"author_flair_text\":null,\"controversiality\":0,\"subreddit_id\":\"t5_2qhwp\",\"edited\":false,\"score_hidden\":false,\"link_id\":\"t3_2qxl90\",\"name\":\"t1_cnas90c\",\"downs\":0,\"created_utc\":\"1420070401\",\"body\":\"If you enjoy deep, 100 hour RPGs, then definitely worth the money.\",\"distinguished\":null,\"id\":\"cnas90c\",\"archived\":false,\"score\":1,\"author\":\"Crodface\"}\\n' \n",
      "\n"
     ]
    }
   ],
   "source": [
    "i = 2\n",
    "wordarray = []\n",
    "for line in file :\n",
    "    if i > 0 :\n",
    "        word = str(line)\n",
    "        print(word,\"\\n\")\n",
    "        word = word[3:-4]\n",
    "        words = word.split(',')\n",
    "        di = {}\n",
    "#         print(words)\n",
    "        for x in words :\n",
    "#             print(x,\"\\n\")\n",
    "            try :\n",
    "                a,b = x.split(':')\n",
    "                di[a[1:-1]] = b\n",
    "            except :\n",
    "                di[a[1:-1]] = di[a[1:-1]] + ',' + x\n",
    "        wordarray.append(di)\n",
    "        i -= 1\n",
    "    else :\n",
    "        break"
   ]
  },
  {
   "cell_type": "code",
   "execution_count": 56,
   "metadata": {},
   "outputs": [
    {
     "data": {
      "text/plain": [
       "[{'controversiality': '0',\n",
       "  'edited': 'false',\n",
       "  'subreddit_id': '\"t5_32vyu\"',\n",
       "  'ups': '1',\n",
       "  'retrieved_on': '1425124282',\n",
       "  'author_flair_css_class': 'null',\n",
       "  'author_flair_text': 'null',\n",
       "  'gilded': '0',\n",
       "  'subreddit': '\"GCXRep\"',\n",
       "  'parent_id': '\"t1_cnajnze\"',\n",
       "  'id': '\"cnas90b\"',\n",
       "  'distinguished': 'null',\n",
       "  'archived': 'false',\n",
       "  'score': '1',\n",
       "  'author': '\"[deleted]\"',\n",
       "  'downs': '0',\n",
       "  'created_utc': '\"1420070401\"',\n",
       "  'body': '\"[deleted]\"',\n",
       "  'link_id': '\"t3_2qxljk\"',\n",
       "  'name': '\"t1_cnas90b\"',\n",
       "  'score_hidden': 'false'},\n",
       " {'subreddit': '\"Games\"',\n",
       "  'parent_id': '\"t1_cnas5ud\"',\n",
       "  'retrieved_on': '1425124282',\n",
       "  'ups': '1',\n",
       "  'author_flair_css_class': 'null',\n",
       "  'gilded': '0',\n",
       "  'author_flair_text': 'null',\n",
       "  'controversiality': '0',\n",
       "  'subreddit_id': '\"t5_2qhwp\"',\n",
       "  'edited': 'false',\n",
       "  'score_hidden': 'false',\n",
       "  'link_id': '\"t3_2qxl90\"',\n",
       "  'name': '\"t1_cnas90c\"',\n",
       "  'downs': '0',\n",
       "  'created_utc': '\"1420070401\"',\n",
       "  'body': '\"If you enjoy deep, 100 hour RPGs, then definitely worth the money.\"',\n",
       "  'distinguished': 'null',\n",
       "  'id': '\"cnas90c\"',\n",
       "  'archived': 'false',\n",
       "  'score': '1',\n",
       "  'author': '\"Crodface\"'}]"
      ]
     },
     "execution_count": 56,
     "metadata": {},
     "output_type": "execute_result"
    }
   ],
   "source": [
    "wordarray"
   ]
  },
  {
   "cell_type": "code",
   "execution_count": null,
   "metadata": {},
   "outputs": [],
   "source": []
  }
 ],
 "metadata": {
  "kernelspec": {
   "display_name": "Python 3",
   "language": "python",
   "name": "python3"
  },
  "language_info": {
   "codemirror_mode": {
    "name": "ipython",
    "version": 3
   },
   "file_extension": ".py",
   "mimetype": "text/x-python",
   "name": "python",
   "nbconvert_exporter": "python",
   "pygments_lexer": "ipython3",
   "version": "3.7.1"
  }
 },
 "nbformat": 4,
 "nbformat_minor": 2
}
