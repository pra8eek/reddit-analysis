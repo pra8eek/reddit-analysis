{
 "cells": [
  {
   "cell_type": "code",
   "execution_count": 2,
   "metadata": {},
   "outputs": [],
   "source": [
    "import bz2"
   ]
  },
  {
   "cell_type": "code",
   "execution_count": 3,
   "metadata": {},
   "outputs": [],
   "source": [
    "file = bz2.open(\"RC_2015-01.bz2\")"
   ]
  },
  {
   "cell_type": "code",
   "execution_count": 6,
   "metadata": {},
   "outputs": [
    {
     "name": "stdout",
     "output_type": "stream",
     "text": [
      "b'{\"parent_id\":\"t3_2qys4x\",\"subreddit\":\"AdviceAnimals\",\"gilded\":0,\"author_flair_text\":null,\"author_flair_css_class\":null,\"retrieved_on\":1425124282,\"ups\":1,\"subreddit_id\":\"t5_2s7tt\",\"edited\":false,\"controversiality\":0,\"score_hidden\":false,\"name\":\"t1_cnas8zy\",\"link_id\":\"t3_2qys4x\",\"body\":\"[deleted]\",\"created_utc\":\"1420070400\",\"downs\":0,\"score\":1,\"author\":\"[deleted]\",\"archived\":false,\"distinguished\":null,\"id\":\"cnas8zy\"}\\n' \n",
      "\n",
      "b'{\"body\":\"Very fast, thank you!\",\"created_utc\":\"1420070400\",\"downs\":0,\"author\":\"Mastersimpson\",\"score\":2,\"id\":\"cnas8zz\",\"distinguished\":null,\"archived\":false,\"score_hidden\":false,\"name\":\"t1_cnas8zz\",\"link_id\":\"t3_2qm5bi\",\"author_flair_css_class\":null,\"gilded\":0,\"author_flair_text\":null,\"retrieved_on\":1425124282,\"ups\":2,\"controversiality\":0,\"edited\":false,\"subreddit_id\":\"t5_2y51u\",\"parent_id\":\"t3_2qm5bi\",\"subreddit\":\"freedonuts\"}\\n' \n",
      "\n",
      "b'{\"author\":\"BigGupp1\",\"score\":6,\"archived\":false,\"id\":\"cnas900\",\"distinguished\":null,\"body\":\"The guy is a professional, and very good at what he does. I highly doubt he misses often, if at all.\",\"created_utc\":\"1420070400\",\"downs\":0,\"name\":\"t1_cnas900\",\"link_id\":\"t3_2qxe1p\",\"score_hidden\":false,\"edited\":false,\"subreddit_id\":\"t5_2qh61\",\"controversiality\":0,\"author_flair_text\":null,\"gilded\":0,\"author_flair_css_class\":null,\"retrieved_on\":1425124282,\"ups\":6,\"parent_id\":\"t1_cnaqg2t\",\"subreddit\":\"WTF\"}\\n' \n",
      "\n",
      "b'{\"score_hidden\":false,\"link_id\":\"t3_2qxlvm\",\"name\":\"t1_cnas901\",\"created_utc\":\"1420070400\",\"downs\":0,\"body\":\"This is a great question, and I want to thank you for asking it. However, I don\\'t have any answers. I\\'m interested in learning more myself. \",\"archived\":false,\"id\":\"cnas901\",\"distinguished\":null,\"score\":1,\"author\":\"PeglegGecko\",\"subreddit\":\"needadvice\",\"parent_id\":\"t3_2qxlvm\",\"ups\":1,\"retrieved_on\":1425124282,\"author_flair_text\":null,\"gilded\":0,\"author_flair_css_class\":null,\"subreddit_id\":\"t5_2r367\",\"edited\":false,\"controversiality\":0}\\n' \n",
      "\n",
      "b'{\"controversiality\":0,\"edited\":false,\"subreddit_id\":\"t5_2t9x3\",\"ups\":1,\"retrieved_on\":1425124282,\"author_flair_css_class\":null,\"author_flair_text\":null,\"gilded\":0,\"subreddit\":\"summonerschool\",\"parent_id\":\"t1_cnaiy0s\",\"id\":\"cnas902\",\"distinguished\":null,\"archived\":false,\"author\":\"politevelociraptor\",\"score\":1,\"created_utc\":\"1420070400\",\"downs\":0,\"body\":\"Is the IE-Shiv-Ghostblade-Zerks-LW-BT Still not the main graves build? 60% crit I think massive Attack speed and decent AD plus Pen?\",\"link_id\":\"t3_2qx3kt\",\"name\":\"t1_cnas902\",\"score_hidden\":false}\\n' \n",
      "\n"
     ]
    }
   ],
   "source": [
    "i = 5\n",
    "wordarray = []\n",
    "for line in file :\n",
    "    if i > 0 :\n",
    "        word = str(line)\n",
    "        print(word,\"\\n\")\n",
    "        word = word[3:-4]\n",
    "        words = word.split(',')\n",
    "        di = {}\n",
    "#         print(words)\n",
    "        for x in words :\n",
    "#             print(x,\"\\n\")\n",
    "            try :\n",
    "                a,b = x.split(':')\n",
    "                a, b = a[1:-1].strip(), b.strip()\n",
    "                di[a] = b\n",
    "            except :\n",
    "                di[a] = di[a] + ',' + x\n",
    "        wordarray.append(di)\n",
    "        i -= 1\n",
    "    else :\n",
    "        break"
   ]
  },
  {
   "cell_type": "code",
   "execution_count": 7,
   "metadata": {},
   "outputs": [
    {
     "data": {
      "text/plain": [
       "[{'parent_id': '\"t3_2qys4x\"',\n",
       "  'subreddit': '\"AdviceAnimals\"',\n",
       "  'gilded': '0',\n",
       "  'author_flair_text': 'null',\n",
       "  'author_flair_css_class': 'null',\n",
       "  'retrieved_on': '1425124282',\n",
       "  'ups': '1',\n",
       "  'subreddit_id': '\"t5_2s7tt\"',\n",
       "  'edited': 'false',\n",
       "  'controversiality': '0',\n",
       "  'score_hidden': 'false',\n",
       "  'name': '\"t1_cnas8zy\"',\n",
       "  'link_id': '\"t3_2qys4x\"',\n",
       "  'body': '\"[deleted]\"',\n",
       "  'created_utc': '\"1420070400\"',\n",
       "  'downs': '0',\n",
       "  'score': '1',\n",
       "  'author': '\"[deleted]\"',\n",
       "  'archived': 'false',\n",
       "  'distinguished': 'null',\n",
       "  'id': '\"cnas8zy\"'},\n",
       " {'body': '\"Very fast, thank you!\"',\n",
       "  'created_utc': '\"1420070400\"',\n",
       "  'downs': '0',\n",
       "  'author': '\"Mastersimpson\"',\n",
       "  'score': '2',\n",
       "  'id': '\"cnas8zz\"',\n",
       "  'distinguished': 'null',\n",
       "  'archived': 'false',\n",
       "  'score_hidden': 'false',\n",
       "  'name': '\"t1_cnas8zz\"',\n",
       "  'link_id': '\"t3_2qm5bi\"',\n",
       "  'author_flair_css_class': 'null',\n",
       "  'gilded': '0',\n",
       "  'author_flair_text': 'null',\n",
       "  'retrieved_on': '1425124282',\n",
       "  'ups': '2',\n",
       "  'controversiality': '0',\n",
       "  'edited': 'false',\n",
       "  'subreddit_id': '\"t5_2y51u\"',\n",
       "  'parent_id': '\"t3_2qm5bi\"',\n",
       "  'subreddit': '\"freedonuts\"'},\n",
       " {'author': '\"BigGupp1\"',\n",
       "  'score': '6',\n",
       "  'archived': 'false',\n",
       "  'id': '\"cnas900\"',\n",
       "  'distinguished': 'null',\n",
       "  'body': '\"The guy is a professional, and very good at what he does. I highly doubt he misses often, if at all.\"',\n",
       "  'created_utc': '\"1420070400\"',\n",
       "  'downs': '0',\n",
       "  'name': '\"t1_cnas900\"',\n",
       "  'link_id': '\"t3_2qxe1p\"',\n",
       "  'score_hidden': 'false',\n",
       "  'edited': 'false',\n",
       "  'subreddit_id': '\"t5_2qh61\"',\n",
       "  'controversiality': '0',\n",
       "  'author_flair_text': 'null',\n",
       "  'gilded': '0',\n",
       "  'author_flair_css_class': 'null',\n",
       "  'retrieved_on': '1425124282',\n",
       "  'ups': '6',\n",
       "  'parent_id': '\"t1_cnaqg2t\"',\n",
       "  'subreddit': '\"WTF\"'},\n",
       " {'score_hidden': 'false',\n",
       "  'link_id': '\"t3_2qxlvm\"',\n",
       "  'name': '\"t1_cnas901\"',\n",
       "  'created_utc': '\"1420070400\"',\n",
       "  'downs': '0',\n",
       "  'body': '\"This is a great question, and I want to thank you for asking it. However, I don\\\\\\'t have any answers. I\\\\\\'m interested in learning more myself. \"',\n",
       "  'archived': 'false',\n",
       "  'id': '\"cnas901\"',\n",
       "  'distinguished': 'null',\n",
       "  'score': '1',\n",
       "  'author': '\"PeglegGecko\"',\n",
       "  'subreddit': '\"needadvice\"',\n",
       "  'parent_id': '\"t3_2qxlvm\"',\n",
       "  'ups': '1',\n",
       "  'retrieved_on': '1425124282',\n",
       "  'author_flair_text': 'null',\n",
       "  'gilded': '0',\n",
       "  'author_flair_css_class': 'null',\n",
       "  'subreddit_id': '\"t5_2r367\"',\n",
       "  'edited': 'false',\n",
       "  'controversiality': '0'},\n",
       " {'controversiality': '0',\n",
       "  'edited': 'false',\n",
       "  'subreddit_id': '\"t5_2t9x3\"',\n",
       "  'ups': '1',\n",
       "  'retrieved_on': '1425124282',\n",
       "  'author_flair_css_class': 'null',\n",
       "  'author_flair_text': 'null',\n",
       "  'gilded': '0',\n",
       "  'subreddit': '\"summonerschool\"',\n",
       "  'parent_id': '\"t1_cnaiy0s\"',\n",
       "  'id': '\"cnas902\"',\n",
       "  'distinguished': 'null',\n",
       "  'archived': 'false',\n",
       "  'author': '\"politevelociraptor\"',\n",
       "  'score': '1',\n",
       "  'created_utc': '\"1420070400\"',\n",
       "  'downs': '0',\n",
       "  'body': '\"Is the IE-Shiv-Ghostblade-Zerks-LW-BT Still not the main graves build? 60% crit I think massive Attack speed and decent AD plus Pen?\"',\n",
       "  'link_id': '\"t3_2qx3kt\"',\n",
       "  'name': '\"t1_cnas902\"',\n",
       "  'score_hidden': 'false'}]"
      ]
     },
     "execution_count": 7,
     "metadata": {},
     "output_type": "execute_result"
    }
   ],
   "source": [
    "wordarray"
   ]
  },
  {
   "cell_type": "code",
   "execution_count": null,
   "metadata": {},
   "outputs": [],
   "source": []
  }
 ],
 "metadata": {
  "kernelspec": {
   "display_name": "Python 3",
   "language": "python",
   "name": "python3"
  },
  "language_info": {
   "codemirror_mode": {
    "name": "ipython",
    "version": 3
   },
   "file_extension": ".py",
   "mimetype": "text/x-python",
   "name": "python",
   "nbconvert_exporter": "python",
   "pygments_lexer": "ipython3",
   "version": "3.7.1"
  }
 },
 "nbformat": 4,
 "nbformat_minor": 2
}
