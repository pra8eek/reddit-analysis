{
 "cells": [
  {
   "cell_type": "code",
   "execution_count": 299,
   "metadata": {},
   "outputs": [],
   "source": [
    "import bs4 as bs\n",
    "import urllib.request\n",
    "import bz2\n",
    "import json"
   ]
  },
  {
   "cell_type": "code",
   "execution_count": 300,
   "metadata": {},
   "outputs": [],
   "source": [
    "file = bz2.open('RS_2017-01.bz2')"
   ]
  },
  {
   "cell_type": "code",
   "execution_count": 301,
   "metadata": {
    "scrolled": true
   },
   "outputs": [],
   "source": [
    "i = 3\n",
    "submissions = []\n",
    "x = \"\"\n",
    "for line in file :\n",
    "    if i > 0 :\n",
    "        i -= 1\n",
    "        x = '{'+str(line)[3:-4]+'}'\n",
    "        y = json.loads(x.replace('\\\\\"','').replace('\\\\',''), strict=False)\n",
    "        submissions.append(y)\n",
    "    else :\n",
    "        break"
   ]
  },
  {
   "cell_type": "code",
   "execution_count": 302,
   "metadata": {},
   "outputs": [
    {
     "data": {
      "text/plain": [
       "{'link_flair_css_class': None,\n",
       " 'thumbnail': 'https://b.thumbs.redditmedia.com/ZchXykM_bboD2RUWn8rzxyoyl8keqK4YAS9WLQoEfKg.jpg',\n",
       " 'created_utc': 1483228800,\n",
       " 'spoiler': False,\n",
       " 'locked': False,\n",
       " 'distinguished': None,\n",
       " 'hidden': False,\n",
       " 'stickied': False,\n",
       " 'quarantine': False,\n",
       " 'retrieved_on': 1489388027,\n",
       " 'domain': 'smoothcomp.com',\n",
       " 'secure_media': None,\n",
       " 'secure_media_embed': {},\n",
       " 'title': 'South Dakota event next weekend come compete!',\n",
       " 'author': 'sonicbh',\n",
       " 'id': '5lcgj8',\n",
       " 'num_comments': 0,\n",
       " 'permalink': '/r/bjj/comments/5lcgj8/south_dakota_event_next_weekend_come_compete/',\n",
       " 'selftext': '',\n",
       " 'archived': False,\n",
       " 'url': 'https://smoothcomp.com/event/128',\n",
       " 'subreddit': 'bjj',\n",
       " 'contest_mode': False,\n",
       " 'subreddit_id': 't5_2qn02',\n",
       " 'media': None,\n",
       " 'score': 3,\n",
       " 'suggested_sort': None,\n",
       " 'author_flair_css_class': 'black-belt-confirmed',\n",
       " 'hide_score': False,\n",
       " 'preview': {'enabled': False,\n",
       "  'images': [{'source': {'height': 630,\n",
       "     'url': 'https://i.redditmedia.com/RDYuH2-9btvlKhGaLQkjRKmqPCaUerttSr7fS52LCBQ.jpg?s=bb4a2442903a18ea0b42d1fc0654b843',\n",
       "     'width': 1200},\n",
       "    'id': 'R-q6tQ2JlNgajUIhZ6UAzd-oF3CWIMBYXK2fZXLbLdo',\n",
       "    'variants': {},\n",
       "    'resolutions': [{'width': 108,\n",
       "      'url': 'https://i.redditmedia.com/RDYuH2-9btvlKhGaLQkjRKmqPCaUerttSr7fS52LCBQ.jpg?fit=crop&amp;crop=faces%2Centropy&amp;arh=2&amp;w=108&amp;s=1b709c76313863cde81bfeccc9bee17a',\n",
       "      'height': 56},\n",
       "     {'height': 113,\n",
       "      'url': 'https://i.redditmedia.com/RDYuH2-9btvlKhGaLQkjRKmqPCaUerttSr7fS52LCBQ.jpg?fit=crop&amp;crop=faces%2Centropy&amp;arh=2&amp;w=216&amp;s=5ddfffd2d3bf7516257f720b38c554b0',\n",
       "      'width': 216},\n",
       "     {'url': 'https://i.redditmedia.com/RDYuH2-9btvlKhGaLQkjRKmqPCaUerttSr7fS52LCBQ.jpg?fit=crop&amp;crop=faces%2Centropy&amp;arh=2&amp;w=320&amp;s=c4c78b977249b1a4087c61d6c165bab9',\n",
       "      'width': 320,\n",
       "      'height': 168},\n",
       "     {'width': 640,\n",
       "      'url': 'https://i.redditmedia.com/RDYuH2-9btvlKhGaLQkjRKmqPCaUerttSr7fS52LCBQ.jpg?fit=crop&amp;crop=faces%2Centropy&amp;arh=2&amp;w=640&amp;s=553b451b1f3f7487aecd4a07c0b377cb',\n",
       "      'height': 336},\n",
       "     {'url': 'https://i.redditmedia.com/RDYuH2-9btvlKhGaLQkjRKmqPCaUerttSr7fS52LCBQ.jpg?fit=crop&amp;crop=faces%2Centropy&amp;arh=2&amp;w=960&amp;s=8271833b796836fe93e33d73eec07e50',\n",
       "      'width': 960,\n",
       "      'height': 504},\n",
       "     {'height': 567,\n",
       "      'url': 'https://i.redditmedia.com/RDYuH2-9btvlKhGaLQkjRKmqPCaUerttSr7fS52LCBQ.jpg?fit=crop&amp;crop=faces%2Centropy&amp;arh=2&amp;w=1080&amp;s=f4a2a08e37d3b563e8b6ee3ceb29cb3c',\n",
       "      'width': 1080}]}]},\n",
       " 'edited': False,\n",
       " 'author_flair_text': 'Bruce Hoyer - Next Edge Academy',\n",
       " 'link_flair_text': None,\n",
       " 'is_self': False,\n",
       " 'media_embed': {},\n",
       " 'brand_safe': True,\n",
       " 'over_18': False,\n",
       " 'post_hint': 'link',\n",
       " 'gilded': 0}"
      ]
     },
     "execution_count": 302,
     "metadata": {},
     "output_type": "execute_result"
    }
   ],
   "source": [
    "submissions[0]"
   ]
  },
  {
   "cell_type": "code",
   "execution_count": 308,
   "metadata": {},
   "outputs": [
    {
     "name": "stdout",
     "output_type": "stream",
     "text": [
      "[{'author': 'ColonelGiraffi', 'author_flair_css_class': None, 'author_flair_text': None, 'body': 'Super fucking bleak for a Star Wars film. Liked that it went right up to the start of ep 4 though. ', 'created_utc': 1483228926, 'id': 'dbumqh4', 'link_id': 't3_5lcgj9', 'parent_id': 't3_5lcgj9', 'stickied': False, 'subreddit': 'AskReddit', 'subreddit_id': 't5_2qh1i'}]\n",
      "ColonelGiraffi\n",
      "[{'author': 'Tomcat1108', 'author_flair_css_class': None, 'author_flair_text': None, 'body': \"Can't wait for the sequel.  \", 'created_utc': 1483228931, 'id': 'dbumqla', 'link_id': 't3_5lcgj9', 'parent_id': 't3_5lcgj9', 'stickied': False, 'subreddit': 'AskReddit', 'subreddit_id': 't5_2qh1i'}]\n",
      "Tomcat1108\n",
      "[{'author': 'pm_me_anythingg_sfw', 'author_flair_css_class': None, 'author_flair_text': None, 'body': 'So mindblowing', 'created_utc': 1483228932, 'id': 'dbumqm3', 'link_id': 't3_5lcgj9', 'parent_id': 't3_5lcgj9', 'stickied': False, 'subreddit': 'AskReddit', 'subreddit_id': 't5_2qh1i'}]\n",
      "pm_me_anythingg_sfw\n",
      "[{'author': 'What_I_Do', 'author_flair_css_class': None, 'author_flair_text': None, 'body': \"You don't have to wait. It came out in 1977. \", 'created_utc': 1483229158, 'id': 'dbumve8', 'link_id': 't3_5lcgj9', 'parent_id': 't1_dbumqla', 'stickied': False, 'subreddit': 'AskReddit', 'subreddit_id': 't5_2qh1i'}]\n",
      "What_I_Do\n",
      "[{'author': 'a-brown-bear', 'author_flair_css_class': None, 'author_flair_text': None, 'body': 'It was want it should have been. They did it well. I was hit with such a massive feeling similar to nostalgia seeing the old Tantive iv and all the old ships in modern screen resolution and some of the pilots and then Princess Lea that I just about cried. ', 'created_utc': 1483229205, 'id': 'dbumwfb', 'link_id': 't3_5lcgj9', 'parent_id': 't3_5lcgj9', 'stickied': False, 'subreddit': 'AskReddit', 'subreddit_id': 't5_2qh1i'}]\n",
      "a-brown-bear\n",
      "[{'author': 'Gwaur', 'author_flair_css_class': None, 'author_flair_text': None, 'body': \"I wanted to cheer and applaud and all that stuff but the movie audience in my land isn't reactive at all so I was peer pressurized to not doing so. ._.\", 'created_utc': 1483229278, 'id': 'dbumxy7', 'link_id': 't3_5lcgj9', 'parent_id': 't3_5lcgj9', 'stickied': False, 'subreddit': 'AskReddit', 'subreddit_id': 't5_2qh1i'}]\n",
      "Gwaur\n",
      "[{'author': 'making_coffee', 'author_flair_css_class': None, 'author_flair_text': None, 'body': \"I thought the whole movie was bleak. Characters didn't have any development and acting was sup par. Also the casting was really bad. \", 'created_utc': 1483229320, 'id': 'dbumyvh', 'link_id': 't3_5lcgj9', 'parent_id': 't1_dbumqh4', 'stickied': False, 'subreddit': 'AskReddit', 'subreddit_id': 't5_2qh1i'}]\n",
      "making_coffee\n",
      "[{'author': '[deleted]', 'author_flair_css_class': None, 'author_flair_text': None, 'body': '[removed]', 'created_utc': 1483229355, 'id': 'dbumznj', 'link_id': 't3_5lcgj9', 'parent_id': 't3_5lcgj9', 'stickied': False, 'subreddit': 'AskReddit', 'subreddit_id': 't5_2qh1i'}]\n",
      "[deleted]\n",
      "[{'author': 'reklawkg', 'author_flair_css_class': None, 'author_flair_text': None, 'body': 'I know that one should not cheer for Darth Vader, but he certainly kicks ass at the end of that movie.', 'created_utc': 1483229586, 'id': 'dbun4mr', 'link_id': 't3_5lcgj9', 'parent_id': 't3_5lcgj9', 'stickied': False, 'subreddit': 'AskReddit', 'subreddit_id': 't5_2qh1i'}]\n",
      "reklawkg\n",
      "[{'author': 'Elyonee', 'author_flair_css_class': 'scholar', 'author_flair_text': '', 'body': \"There are two separate accounts. One for Square Enix, and one for FFXIV itself. They are unrelated and you probably only made a square enix account unless you used the Mog Station.\\n\\nAfter you buy the game, you have to connect it to an account. Only then does your game time start. I'm fairly sure you could buy the game without activating it, play the free trial first, and then activate the game when the free trial is done. If you do that, just make sure you get the trial and game both from Steam. Steam and non-steam versions are not compatible, and you'd have to make a new account.\", 'created_utc': 1483229015, 'id': 'dbumsfa', 'link_id': 't3_5lcgja', 'parent_id': 't3_5lcgja', 'stickied': False, 'subreddit': 'ffxiv', 'subreddit_id': 't5_2rgs7'}]\n",
      "Elyonee\n",
      "[{'author': 'Troyboy321', 'author_flair_css_class': None, 'author_flair_text': None, 'body': 'Ok ty', 'created_utc': 1483230023, 'id': 'dbunevl', 'link_id': 't3_5lcgja', 'parent_id': 't1_dbumsfa', 'stickied': False, 'subreddit': 'ffxiv', 'subreddit_id': 't5_2rgs7'}]\n",
      "Troyboy321\n",
      "[{'author': 'Eecka', 'author_flair_css_class': None, 'author_flair_text': None, 'body': \"Also keep in mind that if you buy from Steam you'll have to get Heavensward and most likely all future expansions from Steam.\", 'created_utc': 1483240556, 'id': 'dbutp6r', 'link_id': 't3_5lcgja', 'parent_id': 't1_dbunevl', 'stickied': False, 'subreddit': 'ffxiv', 'subreddit_id': 't5_2rgs7'}]\n",
      "Eecka\n",
      "[{'author': 'spajeto', 'author_flair_css_class': 'scholar', 'author_flair_text': 'Lich', 'body': \"The trial actually is compatible since it doesn't register any copy of the game to your account that would later be problematic.\\n\\nSource: Played the standalone trial when I started, then bought the game on Steam and continued with the same character. \", 'created_utc': 1483287246, 'id': 'dbvaklq', 'link_id': 't3_5lcgja', 'parent_id': 't1_dbumsfa', 'stickied': False, 'subreddit': 'ffxiv', 'subreddit_id': 't5_2rgs7'}]\n",
      "spajeto\n"
     ]
    }
   ],
   "source": [
    "for submission in submissions :\n",
    "    filename = submission['id'] + '.xml'\n",
    "    f = open(filename,\"w+\")\n",
    "    \n",
    "    f.write(\"<?xml version='1.0' encoding='utf-8'?>\")\n",
    "    f.write(\"<KnolML>\")\n",
    "    f.write('\t<KnowledgeData Type=\"Submision\" Id= \"1\">')\n",
    "    \n",
    "    f.write('\t\t<Title>'+submission['title']+'</Title>')\n",
    "    f.write('\t\t<Instance Id= \"1\" InstanceType= \"Description\">')\n",
    "    \n",
    "    f.write(\"\t\t\t<TimeStamp>\")\n",
    "    f.write(\" \t\t\t\t<CreationUTC>\"+str(submission['created_utc'])+\"</CreationUTC> \")\n",
    "    f.write(\"\t\t\t</TimeStamp>\")\n",
    "    \n",
    "    f.write(\"\t\t\t<Contributors>\")\n",
    "    f.write(\" \t\t\t\t<OwnerUserId>\"+submission['author']+\"</OwnerUserId> \")\n",
    "    f.write(\"\t\t\t</Contributors>\")\n",
    "    \n",
    "    f.write(\"\t\t\t<Body>\")\n",
    "    f.write(\" \t\t\t\t<Text>\")\n",
    "    f.write(\"\t\t\t\t\t\"+submission['selftext'])\n",
    "    f.write(\"\t\t\t\t</Text> \")\n",
    "    f.write(\"\t\t\t</Body>\")\n",
    "    \n",
    "    f.write(\"\t\t\t<Credit>\")\n",
    "    f.write(\" \t\t\t\t<Score>\"+str(submission['score'])+\"</Score> \")\n",
    "    f.write(\"\t\t\t</Credit>\")\n",
    "    \n",
    "    f.write('\t\t</Instance>')\n",
    "\n",
    "    submission_id = submission['id']\n",
    "    url = 'https://api.pushshift.io/reddit/submission/comment_ids/' + submission_id\n",
    "    sauce = urllib.request.urlopen(url).read()\n",
    "    soup = bs.BeautifulSoup(sauce, 'lxml')\n",
    "    \n",
    "    comment_ids = json.loads(soup.p.string)['data']\n",
    "    \n",
    "    for comment_id in comment_ids :\n",
    "        url = 'http://api.pushshift.io/reddit/search/comment/?ids=' + comment_id\n",
    "        sauce = urllib.request.urlopen(url).read()\n",
    "        soup = bs.BeautifulSoup(sauce, 'lxml')\n",
    "    \n",
    "        comment_description = json.loads(soup.p.string)['data']        \n",
    "        for x in comment_description :\n",
    "            f.write('\t\t<Instance Id= \"2\" OriginalId= \"4\" InstanceType= \"Answer\">')\n",
    "    \n",
    "    f.write('\t</KnowledgeData>')\n",
    "    f.write('</KnolML>')"
   ]
  },
  {
   "cell_type": "code",
   "execution_count": null,
   "metadata": {},
   "outputs": [],
   "source": [
    "sauce = urllib.request.urlopen('http://api.pushshift.io/reddit/search/comment/?ids=cnas901').read()\n",
    "soup = bs.BeautifulSoup(sauce, 'lxml')"
   ]
  },
  {
   "cell_type": "code",
   "execution_count": null,
   "metadata": {},
   "outputs": [],
   "source": [
    "print(soup.p.string)"
   ]
  },
  {
   "cell_type": "code",
   "execution_count": null,
   "metadata": {},
   "outputs": [],
   "source": []
  }
 ],
 "metadata": {
  "kernelspec": {
   "display_name": "Python 3",
   "language": "python",
   "name": "python3"
  },
  "language_info": {
   "codemirror_mode": {
    "name": "ipython",
    "version": 3
   },
   "file_extension": ".py",
   "mimetype": "text/x-python",
   "name": "python",
   "nbconvert_exporter": "python",
   "pygments_lexer": "ipython3",
   "version": "3.7.1"
  }
 },
 "nbformat": 4,
 "nbformat_minor": 2
}
