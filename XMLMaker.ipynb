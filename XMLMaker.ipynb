{
 "cells": [
  {
   "cell_type": "code",
   "execution_count": 1,
   "metadata": {},
   "outputs": [],
   "source": [
    "import bs4 as bs\n",
    "import urllib.request\n",
    "import bz2\n",
    "import json"
   ]
  },
  {
   "cell_type": "code",
   "execution_count": 2,
   "metadata": {},
   "outputs": [],
   "source": [
    "file = bz2.open('RS_2017-01.bz2')\n",
    "temp = open('allSubmissions.txt','w+')"
   ]
  },
  {
   "cell_type": "code",
   "execution_count": 3,
   "metadata": {},
   "outputs": [],
   "source": [
    "def correction(e, x, y):\n",
    "    try :\n",
    "        e = str(e)[::-1]\n",
    "        e = int(e[1:e.index(' ')][::-1])\n",
    "        x = x[:e-3]+'\"'+x[e-2:]\n",
    "        y = json.loads(x, strict = False)\n",
    "        return y\n",
    "    except Exception as e :\n",
    "        y = correction(e, x, y)        "
   ]
  },
  {
   "cell_type": "code",
   "execution_count": 4,
   "metadata": {},
   "outputs": [],
   "source": [
    "def writeStart(f, submission, instance_id) :\n",
    "    f.write(\"<?xml version='1.0' encoding='utf-8'?>\"+\"\\n\")\n",
    "    f.write(\"<KnolML>\"+\"\\n\")\n",
    "    f.write('\\t<KnowledgeData Type=\"Submision\" Id= \"'+str(submission['id'])+'\">'+\"\\n\")\n",
    "    f.write('\\t\\t<Title>'+submission['title']+'</Title>'+\"\\n\")\n",
    "    f.write('\\t\\t<Instance Id= \"'+str(instance_id)+'\" InstanceType= \"Description\">'+\"\\n\")\n",
    "    f.write(\"\\t\\t\\t<TimeStamp>\"+\"\\n\")\n",
    "    f.write(\"\\t\\t\\t\\t<CreationUTC>\"+str(submission['created_utc'])+\"</CreationUTC> \"+\"\\n\")\n",
    "    f.write(\"\\t\\t\\t</TimeStamp>\"+\"\\n\")\n",
    "    f.write(\"\\t\\t\\t<Contributors>\"+\"\\n\")\n",
    "    f.write(\"\\t\\t\\t\\t<OwnerUserId>\"+submission['author']+\"</OwnerUserId> \"+\"\\n\")\n",
    "    f.write(\"\\t\\t\\t</Contributors>\"+\"\\n\")  \n",
    "    f.write(\"\\t\\t\\t<Body>\"+\"\\n\")\n",
    "    f.write(\"\\t\\t\\t\\t<Text>\"+\"\\n\")\n",
    "    f.write(\"\\t\\t\\t\\t\\t\"+submission['selftext']+\"\\n\")\n",
    "    f.write(\"\\t\\t\\t\\t</Text> \"+\"\\n\")\n",
    "    f.write(\"\\t\\t\\t</Body>\"+\"\\n\")  \n",
    "    f.write(\"\\t\\t\\t<Credit>\"+\"\\n\")\n",
    "    f.write(\"\\t\\t\\t\\t<Score>\"+str(submission['score'] if 'score' in submission else 0)+\"</Score> \"+\"\\n\")\n",
    "    f.write(\"\\t\\t\\t</Credit>\"+\"\\n\")   \n",
    "    f.write('\\t\\t</Instance>'+\"\\n\")"
   ]
  },
  {
   "cell_type": "code",
   "execution_count": 7,
   "metadata": {},
   "outputs": [],
   "source": [
    "def writeComment(f, comment, instance_id):\n",
    "    f.write('\\t\\t<Instance Id= \"'+str(instance_id)+'\" InstanceType= \"Comment\">'+\"\\n\")\n",
    "    f.write(\"\\t\\t\\t<TimeStamp>\"+\"\\n\")\n",
    "    f.write(\"\\t\\t\\t\\t<CreationUTC>\"+str(comment[\"created_utc\"])+\"</CreationUTC> \"+\"\\n\")\n",
    "    f.write(\"\\t\\t\\t</TimeStamp>\"+\"\\n\")\n",
    "    f.write(\"\\t\\t\\t<Contributors>\"+\"\\n\")\n",
    "    f.write(\"\\t\\t\\t\\t<OwnerUserId>\"+comment[\"author\"]+\"</OwnerUserId>\"+\"\\n\")\n",
    "    f.write(\"\\t\\t\\t</Contributors>\"+\"\\n\")\n",
    "    f.write(\"\\t\\t\\t<Body>\"+\"\\n\")\n",
    "    f.write(\"\\t\\t\\t\\t<Text>\"+\"\\n\")\n",
    "    f.write(\"\\t\\t\\t\\t\\t\"+comment[\"body\"]+\"\\n\")\n",
    "    f.write(\"\\t\\t\\t\\t</Text> \"+\"\\n\")\n",
    "    f.write(\"\\t\\t\\t</Body>\"+\"\\n\")\n",
    "    f.write(\"\\t\\t\\t<Credit>\"+\"\\n\")\n",
    "    f.write(\"\\t\\t\\t\\t<Score>\"+str(comment['score'] if 'score' in comment else 0)+\"</Score> \"+\"\\n\")\n",
    "    f.write(\"\\t\\t\\t</Credit>\"+\"\\n\")\n",
    "    f.write('\\t\\t</Instance>'+\"\\n\")"
   ]
  },
  {
   "cell_type": "code",
   "execution_count": null,
   "metadata": {
    "scrolled": true
   },
   "outputs": [],
   "source": [
    "for line in file :\n",
    "    instance_id = 1\n",
    "    x = '{'+str(line)[3:-4]+'}'\n",
    "    x = x.replace('\\\\\\\\\"','').replace('\\\\','')\n",
    "    try :\n",
    "        submission = json.loads(x, strict = False)\n",
    "    except Exception as e :\n",
    "        submission = correction(e, x, y)\n",
    "    \n",
    "    filename = submission['id'] + '.xml'\n",
    "    f = open(filename,\"w+\")\n",
    "    writeStart(f, submission, instance_id)\n",
    "    \n",
    "    submission_id = submission['id']\n",
    "    url = 'https://api.pushshift.io/reddit/submission/comment_ids/' + submission_id\n",
    "    sauce = urllib.request.urlopen(url).read()\n",
    "    soup = bs.BeautifulSoup(sauce, 'lxml')\n",
    "    \n",
    "    comment_ids = json.loads(soup.p.string)['data']\n",
    "    \n",
    "    for comment_id in comment_ids :\n",
    "        url = 'http://api.pushshift.io/reddit/search/comment/?ids=' + comment_id\n",
    "        saucee = urllib.request.urlopen(url).read()\n",
    "        soupp = bs.BeautifulSoup(saucee, 'lxml')\n",
    "    \n",
    "        comment_description = json.loads(soupp.p.string)['data']\n",
    "        \n",
    "        for comment in comment_description :\n",
    "            instance_id += 1\n",
    "            writeComment(f, comment, instance_id)\n",
    "\n",
    "    \n",
    "    f.write('\\t</KnowledgeData>'+\"\\n\")\n",
    "    f.write('</KnolML>')"
   ]
  },
  {
   "cell_type": "code",
   "execution_count": 7,
   "metadata": {
    "scrolled": true
   },
   "outputs": [
    {
     "data": {
      "text/plain": [
       "{'author': 'ColonelGiraffi',\n",
       " 'author_flair_css_class': None,\n",
       " 'author_flair_text': None,\n",
       " 'body': 'Super fucking bleak for a Star Wars film. Liked that it went right up to the start of ep 4 though. ',\n",
       " 'created_utc': 1483228926,\n",
       " 'id': 'dbumqh4',\n",
       " 'link_id': 't3_5lcgj9',\n",
       " 'parent_id': 't3_5lcgj9',\n",
       " 'stickied': False,\n",
       " 'subreddit': 'AskReddit',\n",
       " 'subreddit_id': 't5_2qh1i'}"
      ]
     },
     "execution_count": 7,
     "metadata": {},
     "output_type": "execute_result"
    }
   ],
   "source": [
    "comment"
   ]
  }
 ],
 "metadata": {
  "kernelspec": {
   "display_name": "Python 3",
   "language": "python",
   "name": "python3"
  },
  "language_info": {
   "codemirror_mode": {
    "name": "ipython",
    "version": 3
   },
   "file_extension": ".py",
   "mimetype": "text/x-python",
   "name": "python",
   "nbconvert_exporter": "python",
   "pygments_lexer": "ipython3",
   "version": "3.7.1"
  }
 },
 "nbformat": 4,
 "nbformat_minor": 2
}
