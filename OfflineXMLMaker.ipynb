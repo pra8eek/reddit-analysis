{
 "cells": [
  {
   "cell_type": "code",
   "execution_count": 1,
   "metadata": {},
   "outputs": [],
   "source": [
    "import bz2\n",
    "import json\n",
    "import time\n",
    "import os.path"
   ]
  },
  {
   "cell_type": "code",
   "execution_count": 2,
   "metadata": {},
   "outputs": [],
   "source": [
    "submissions = bz2.open('RS_2017-01.bz2')\n",
    "comments = bz2.open('RC_2017-01.bz2')"
   ]
  },
  {
   "cell_type": "code",
   "execution_count": 3,
   "metadata": {},
   "outputs": [],
   "source": [
    "def correction(e, x):\n",
    "    i = 0\n",
    "    if str(e).find(\"Expecting ',' delimiter:\") != 0 :\n",
    "        return e\n",
    "    try :\n",
    "        e = str(e)[::-1]\n",
    "        e = int(e[1:e.index(' ')][::-1])\n",
    "        x = x[:e-3]+'\"'+x[e-2:]\n",
    "        y = json.loads(x, strict = False)\n",
    "        return y\n",
    "    except Exception as e :\n",
    "        y = correction(e, x)        \n"
   ]
  },
  {
   "cell_type": "code",
   "execution_count": 4,
   "metadata": {},
   "outputs": [],
   "source": [
    "def JSONtoDict(x) :\n",
    "    x = '{'+str(x)[3:-4]+'}'\n",
    "    x = x.replace('\\\\\\\\\"','').replace('\\\\','')\n",
    "    try :\n",
    "        y = json.loads(x, strict = False)\n",
    "    except Exception as e :\n",
    "        y = correction(e, x)\n",
    "    return y\n"
   ]
  },
  {
   "cell_type": "code",
   "execution_count": 5,
   "metadata": {},
   "outputs": [],
   "source": [
    "def writeStart(f, submission) :\n",
    "    f.write(\"<?xml version='1.0' encoding='utf-8'?>\"+\"\\n\")\n",
    "    f.write(\"<KnolML>\"+\"\\n\")\n",
    "    f.write('\\t<KnowledgeData Type=\"Submision\" Id= \"'+str(submission['id'])+'\">'+\"\\n\")\n",
    "    f.write('\\t\\t<Title>'+submission['title']+'</Title>'+\"\\n\")\n",
    "    f.write('\\t\\t<Instance Id= \"1\" InstanceType= \"Description\">'+\"\\n\")\n",
    "    f.write(\"\\t\\t\\t<TimeStamp>\"+\"\\n\")\n",
    "    f.write(\"\\t\\t\\t\\t<CreationUTC>\"+str(submission['created_utc'])+\"</CreationUTC> \"+\"\\n\")\n",
    "    f.write(\"\\t\\t\\t</TimeStamp>\"+\"\\n\")\n",
    "    f.write(\"\\t\\t\\t<Contributors>\"+\"\\n\")\n",
    "    f.write(\"\\t\\t\\t\\t<OwnerUserId>\"+submission['author']+\"</OwnerUserId> \"+\"\\n\")\n",
    "    f.write(\"\\t\\t\\t</Contributors>\"+\"\\n\")  \n",
    "    f.write(\"\\t\\t\\t<Body>\"+\"\\n\")\n",
    "    f.write(\"\\t\\t\\t\\t<Text>\"+\"\\n\")\n",
    "    f.write(\"\\t\\t\\t\\t\\t\"+submission['selftext']+\"\\n\")\n",
    "    f.write(\"\\t\\t\\t\\t</Text> \"+\"\\n\")\n",
    "    f.write(\"\\t\\t\\t</Body>\"+\"\\n\")  \n",
    "    f.write(\"\\t\\t\\t<Credit>\"+\"\\n\")\n",
    "    f.write(\"\\t\\t\\t\\t<Score>\"+str(submission['score'] if 'score' in submission else 0)+\"</Score> \"+\"\\n\")\n",
    "    f.write(\"\\t\\t\\t</Credit>\"+\"\\n\")   \n",
    "    f.write('\\t\\t</Instance>'+\"\\n\")"
   ]
  },
  {
   "cell_type": "code",
   "execution_count": 6,
   "metadata": {},
   "outputs": [],
   "source": [
    "def writeComment(f, comment, instance_id):\n",
    "    f.write('\\t\\t<Instance Id= \"'+str(instance_id)+'\" InstanceType= \"Comment\">'+\"\\n\")\n",
    "    f.write(\"\\t\\t\\t<TimeStamp>\"+\"\\n\")\n",
    "    f.write(\"\\t\\t\\t\\t<CreationUTC>\"+str(comment[\"created_utc\"])+\"</CreationUTC> \"+\"\\n\")\n",
    "    f.write(\"\\t\\t\\t</TimeStamp>\"+\"\\n\")\n",
    "    f.write(\"\\t\\t\\t<Contributors>\"+\"\\n\")\n",
    "    f.write(\"\\t\\t\\t\\t<OwnerUserId>\"+comment[\"author\"]+\"</OwnerUserId>\"+\"\\n\")\n",
    "    f.write(\"\\t\\t\\t</Contributors>\"+\"\\n\")\n",
    "    f.write(\"\\t\\t\\t<Body>\"+\"\\n\")\n",
    "    f.write(\"\\t\\t\\t\\t<Text>\"+\"\\n\")\n",
    "    f.write(\"\\t\\t\\t\\t\\t\"+comment[\"body\"]+\"\\n\")\n",
    "    f.write(\"\\t\\t\\t\\t</Text> \"+\"\\n\")\n",
    "    f.write(\"\\t\\t\\t</Body>\"+\"\\n\")\n",
    "    f.write(\"\\t\\t\\t<Credit>\"+\"\\n\")\n",
    "    f.write(\"\\t\\t\\t\\t<Score>\"+str(comment['score'] if 'score' in comment else 0)+\"</Score> \"+\"\\n\")\n",
    "    f.write(\"\\t\\t\\t</Credit>\"+\"\\n\")\n",
    "    f.write('\\t\\t</Instance>'+\"\\n\")"
   ]
  },
  {
   "cell_type": "code",
   "execution_count": null,
   "metadata": {},
   "outputs": [],
   "source": [
    "i = 0\n",
    "j = 0\n",
    "t0 = time.time()\n",
    "\n",
    "for submission in submissions :\n",
    "    i += 1\n",
    "    if i%100000 == 0 :\n",
    "        print(str(i).format(7.0),\" posts opened in \", int(time.time() - t0),\"seconds\\n--------------------------------------------------------------------------\")\n",
    "    submission = JSONtoDict(submission)\n",
    "    try :\n",
    "        filename = './ABC/'+submission['id'] + '.xml'\n",
    "    except Exception as e:\n",
    "        j += 1\n",
    "        print(\"Accuracy = \",'{:f}'.format(100*(i-j)/i),\"% \\t\",submission)\n",
    "        continue\n",
    "    file = open(filename,\"w+\")\n",
    "    writeStart(file, submission)\n",
    "\n",
    "t1 = time.time()\n",
    "print(\"Phase 1 done in \",t1-t0,\"seconds\")"
   ]
  },
  {
   "cell_type": "code",
   "execution_count": null,
   "metadata": {},
   "outputs": [],
   "source": [
    "i = 0\n",
    "j = 0\n",
    "for comment in comments :\n",
    "    i += 1    \n",
    "    comment = JSONtoDict(comment)\n",
    "    \n",
    "    if i%100000 == 0 :\n",
    "        print(i,\" comments processed in \", int(time.time() - t1),\"seconds. || \",j,\" failed\")\n",
    "        print(\"Conversion ratio = \",100*(i-j)/i,\"%\\n--------------------------------------------------------------------------\")\n",
    "    \n",
    "    try :\n",
    "        submissionID = comment['link_id'][3:]\n",
    "        filename = './ABC/' + str(submissionID) + '.xml'\n",
    "        if os.path.isfile(filename) :\n",
    "            file = open(filename,\"a\")\n",
    "        else :\n",
    "            j += 1\n",
    "            continue\n",
    "            \n",
    "    except Exception as e:\n",
    "        j += 1\n",
    "        print(e)\n",
    "        continue\n",
    "    \n",
    "    instance_id = 0\n",
    "    with open(filename, \"r\") as f:\n",
    "        searchlines = f.readlines()\n",
    "        for _, line in enumerate(searchlines):\n",
    "            if '\\t\\t<Instance Id= \"' in line: \n",
    "                instance_id += 1\n",
    "                \n",
    "    writeComment(file, comment, instance_id+1)\n",
    "    \n",
    "t2 = time.time()\n",
    "print(\"Phase 2 done in \",t2-t1,\"seconds\")\n"
   ]
  },
  {
   "cell_type": "code",
   "execution_count": null,
   "metadata": {},
   "outputs": [],
   "source": [
    "i = 0\n",
    "j = 0\n",
    "for submission in submissions :\n",
    "    i += 1\n",
    "    if i%100000 == 0 :\n",
    "        print(str(i).format(7.0),\" posts closed in \", int(time.time() - t2),\"seconds\\n--------------------------------------------------------------------------\")\n",
    "    try :  \n",
    "        submission = JSONtoDict(submission)\n",
    "        filename = './ABC/'+submission['id'] + '.xml'\n",
    "    except :    \n",
    "        i -= 1\n",
    "        continue\n",
    "    if my_file.exists():\n",
    "            file = open(filename,\"a\")\n",
    "        else :\n",
    "            j += 1\n",
    "    file.write('\\t</KnowledgeData>'+\"\\n\")\n",
    "    file.write('</KnolML>')\n",
    "    \n",
    "t3 = time.time()    \n",
    "print(\"Phase 3 done in \",t3-t2,\"seconds\")\n"
   ]
  },
  {
   "cell_type": "code",
   "execution_count": null,
   "metadata": {},
   "outputs": [],
   "source": []
  }
 ],
 "metadata": {
  "kernelspec": {
   "display_name": "Python 3",
   "language": "python",
   "name": "python3"
  },
  "language_info": {
   "codemirror_mode": {
    "name": "ipython",
    "version": 3
   },
   "file_extension": ".py",
   "mimetype": "text/x-python",
   "name": "python",
   "nbconvert_exporter": "python",
   "pygments_lexer": "ipython3",
   "version": "3.7.1"
  }
 },
 "nbformat": 4,
 "nbformat_minor": 2
}
