{
 "cells": [
  {
   "cell_type": "code",
   "execution_count": 3,
   "metadata": {},
   "outputs": [],
   "source": [
    "import bz2\n",
    "import json"
   ]
  },
  {
   "cell_type": "code",
   "execution_count": 4,
   "metadata": {},
   "outputs": [],
   "source": [
    "submissions = bz2.open('RS_2017-01.bz2')\n",
    "comments = bz2.open('RC_2017-01.bz2')"
   ]
  },
  {
   "cell_type": "code",
   "execution_count": 5,
   "metadata": {},
   "outputs": [],
   "source": [
    "def correction(e, x):\n",
    "    try :\n",
    "        e = str(e)[::-1]\n",
    "        e = int(e[1:e.index(' ')][::-1])\n",
    "        x = x[:e-3]+'\"'+x[e-2:]\n",
    "        y = json.loads(x, strict = False)\n",
    "        return y\n",
    "    except Exception as e :\n",
    "        y = correction(e, x)        "
   ]
  },
  {
   "cell_type": "code",
   "execution_count": 6,
   "metadata": {},
   "outputs": [],
   "source": [
    "def JSONtoDict(x) :\n",
    "    x = '{'+str(x)[3:-4]+'}'\n",
    "    x = x.replace('\\\\\\\\\"','').replace('\\\\','')\n",
    "    try :\n",
    "        y = json.loads(x, strict = False)\n",
    "    except Exception as e :\n",
    "        y = correction(e, x)\n",
    "    return y"
   ]
  },
  {
   "cell_type": "code",
   "execution_count": 5,
   "metadata": {},
   "outputs": [],
   "source": [
    "def writeStart(f, submission) :\n",
    "    f.write(\"<?xml version='1.0' encoding='utf-8'?>\"+\"\\n\")\n",
    "    f.write(\"<KnolML>\"+\"\\n\")\n",
    "    f.write('\\t<KnowledgeData Type=\"Submision\" Id= \"'+str(submission['id'])+'\">'+\"\\n\")\n",
    "    f.write('\\t\\t<Title>'+submission['title']+'</Title>'+\"\\n\")\n",
    "    f.write('\\t\\t<Instance Id= \"1\" InstanceType= \"Description\">'+\"\\n\")\n",
    "    f.write(\"\\t\\t\\t<TimeStamp>\"+\"\\n\")\n",
    "    f.write(\"\\t\\t\\t\\t<CreationUTC>\"+str(submission['created_utc'])+\"</CreationUTC> \"+\"\\n\")\n",
    "    f.write(\"\\t\\t\\t</TimeStamp>\"+\"\\n\")\n",
    "    f.write(\"\\t\\t\\t<Contributors>\"+\"\\n\")\n",
    "    f.write(\"\\t\\t\\t\\t<OwnerUserId>\"+submission['author']+\"</OwnerUserId> \"+\"\\n\")\n",
    "    f.write(\"\\t\\t\\t</Contributors>\"+\"\\n\")  \n",
    "    f.write(\"\\t\\t\\t<Body>\"+\"\\n\")\n",
    "    f.write(\"\\t\\t\\t\\t<Text>\"+\"\\n\")\n",
    "    f.write(\"\\t\\t\\t\\t\\t\"+submission['selftext']+\"\\n\")\n",
    "    f.write(\"\\t\\t\\t\\t</Text> \"+\"\\n\")\n",
    "    f.write(\"\\t\\t\\t</Body>\"+\"\\n\")  \n",
    "    f.write(\"\\t\\t\\t<Credit>\"+\"\\n\")\n",
    "    f.write(\"\\t\\t\\t\\t<Score>\"+str(submission['score'] if 'score' in submission else 0)+\"</Score> \"+\"\\n\")\n",
    "    f.write(\"\\t\\t\\t</Credit>\"+\"\\n\")   \n",
    "    f.write('\\t\\t</Instance>'+\"\\n\")"
   ]
  },
  {
   "cell_type": "code",
   "execution_count": 9,
   "metadata": {},
   "outputs": [],
   "source": [
    "def writeComment(f, comment, instance_id):\n",
    "    f.write('\\t\\t<Instance Id= \"'+str(instance_id)+'\" InstanceType= \"Comment\">'+\"\\n\")\n",
    "    f.write(\"\\t\\t\\t<TimeStamp>\"+\"\\n\")\n",
    "    f.write(\"\\t\\t\\t\\t<CreationUTC>\"+str(comment[\"created_utc\"])+\"</CreationUTC> \"+\"\\n\")\n",
    "    f.write(\"\\t\\t\\t</TimeStamp>\"+\"\\n\")\n",
    "    f.write(\"\\t\\t\\t<Contributors>\"+\"\\n\")\n",
    "    f.write(\"\\t\\t\\t\\t<OwnerUserId>\"+comment[\"author\"]+\"</OwnerUserId>\"+\"\\n\")\n",
    "    f.write(\"\\t\\t\\t</Contributors>\"+\"\\n\")\n",
    "    f.write(\"\\t\\t\\t<Body>\"+\"\\n\")\n",
    "    f.write(\"\\t\\t\\t\\t<Text>\"+\"\\n\")\n",
    "    f.write(\"\\t\\t\\t\\t\\t\"+comment[\"body\"]+\"\\n\")\n",
    "    f.write(\"\\t\\t\\t\\t</Text> \"+\"\\n\")\n",
    "    f.write(\"\\t\\t\\t</Body>\"+\"\\n\")\n",
    "    f.write(\"\\t\\t\\t<Credit>\"+\"\\n\")\n",
    "    f.write(\"\\t\\t\\t\\t<Score>\"+str(comment['score'] if 'score' in comment else 0)+\"</Score> \"+\"\\n\")\n",
    "    f.write(\"\\t\\t\\t</Credit>\"+\"\\n\")\n",
    "    f.write('\\t\\t</Instance>'+\"\\n\")"
   ]
  },
  {
   "cell_type": "code",
   "execution_count": null,
   "metadata": {},
   "outputs": [],
   "source": [
    "for submission in submissions :\n",
    "    submission = JSONtoDict(submission)\n",
    "    filename = './KnolML/'+submission['id'] + '.xml'\n",
    "    file = open(filename,\"w+\")\n",
    "    writeStart(file, submission)"
   ]
  },
  {
   "cell_type": "code",
   "execution_count": null,
   "metadata": {},
   "outputs": [],
   "source": [
    "for comment in comments :\n",
    "    comment = JSONtoDict(comment)\n",
    "    submissionID = comment['link_id'][3:]\n",
    "    filename = './KnolML/' + submissionID + '.xml'\n",
    "    try :\n",
    "        file = open(filename,\"a\")\n",
    "    except :\n",
    "        continue\n",
    "    writeComment(file, comment, 0)"
   ]
  },
  {
   "cell_type": "code",
   "execution_count": null,
   "metadata": {},
   "outputs": [],
   "source": [
    "for submission in submissions :\n",
    "    submission = JSONtoDict(submission)\n",
    "    filename = './KnolML/'+submission['id'] + '.xml'\n",
    "    file = open(filename,\"w+\")\n",
    "    writeStart(file, submission)\n",
    "    file.write('\\t</KnowledgeData>'+\"\\n\")\n",
    "    file.write('</KnolML>')"
   ]
  }
 ],
 "metadata": {
  "kernelspec": {
   "display_name": "Python 3",
   "language": "python",
   "name": "python3"
  },
  "language_info": {
   "codemirror_mode": {
    "name": "ipython",
    "version": 3
   },
   "file_extension": ".py",
   "mimetype": "text/x-python",
   "name": "python",
   "nbconvert_exporter": "python",
   "pygments_lexer": "ipython3",
   "version": "3.7.1"
  }
 },
 "nbformat": 4,
 "nbformat_minor": 2
}
